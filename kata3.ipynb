{
 "cells": [
  {
   "cell_type": "markdown",
   "metadata": {},
   "source": [
    "Ejercicio1 kata3:\n",
    "Condicionales if y else.\n",
    "La velocidad del asteroide varía dependiendo de lo cerca que esté del sol, y cualquier velocidad superior a 25 kilómetros por segundo (km/s) merece una advertencia.\n",
    "# Añadir el código necesario para crear una variable que guarde la velocidad del asteroide.\n",
    "# Escribe una expresión de prueba para calcular si necesita una advertencia.\n",
    "# Agregue las instrucciones que se ejecutarán si la expresión de prueba es true o false."
   ]
  },
  {
   "cell_type": "code",
   "execution_count": null,
   "metadata": {},
   "outputs": [],
   "source": [
    "asteroide = 49 #km/s\n",
    "if asteroide > 25:\n",
    "    print(\"Vamos a morir\")\n",
    "else:\n",
    "    print(\"No pasa nasa oiga\")"
   ]
  },
  {
   "cell_type": "markdown",
   "metadata": {},
   "source": [
    "Ejercicio2 kata3:\n",
    "Si un asteroide entra en la atmósfera de la Tierra a una velocidad mayor o igual a 20 km/s, \n",
    "a veces produce un rayo de luz que se puede ver desde la Tierra. Escribe la lógica condicional \n",
    "que usa declaraciones if, else, y elif para alertar a las personas de todo el mundo que deben \n",
    "buscar un asteroide en el cielo. ¡Hay uno que se dirige a la tierra ahora a una velocidad de 19 km/s!\n",
    "# Agrega el código para crear una variable para un asteroide que viaja a 19 km/s\n",
    "# Escribe varias expresiones de prueba para determinar si puedes ver el rayo de luz desde la tierra\n",
    "# Agrega las instrucciones que se ejecutarán si las expresiones de prueba son True o False"
   ]
  },
  {
   "cell_type": "code",
   "execution_count": 4,
   "metadata": {},
   "outputs": [
    {
     "name": "stdout",
     "output_type": "stream",
     "text": [
      "Se percibe una luz briyante en el cielo\n"
     ]
    }
   ],
   "source": [
    "asteroide = 21 #km/s\n",
    "if asteroide > 20: \n",
    "    print(\"Se percibe una luz brillante en el cielo\")\n",
    "elif asteroide == 20:\n",
    "    print(\"Se percibe una luz brillante en el cielo\")\n",
    "else:\n",
    "    print(\"Nada en el perímetro\")"
   ]
  },
  {
   "cell_type": "markdown",
   "metadata": {},
   "source": [
    "Ejercicio3 kata 3:\n",
    "Los asteroides de menos de 25 metros en su dimensión más grande probablemente se quemarán a medida que entren en la atmósfera de la Tierra.\n",
    "\n",
    "Si una pieza de un asteroide que es más grande que 25 metros pero más pequeña que 1000 metros golpeara la Tierra, causaría mucho daño.\n",
    "También discutimos en el ejercicio anterior que:\n",
    "\n",
    "La velocidad del asteroide varía en función de lo cerca que esté del sol, y cualquier velocidad superior a 25 kilómetros por segundo (km/s) merece una advertencia.\n",
    "Si un asteroide entra en la atmósfera de la Tierra a una velocidad mayor o igual a 20 km/s, a veces produce \n",
    "un rayo de luz que se puede ver desde la Tierra.\n",
    "Usando toda esta información, escribe un programa que emita la advertencia o información correcta a la gente de la Tierra, \n",
    "según la velocidad y el tamaño de un asteroide. Utiliza instrucciones if, else, y elif, así como los operadores and y or.\n",
    "\n",
    "# Agrega el código para crear nuevas variables para la velocidad y el tamaño del asteroide\n",
    "# Para probar el código, prueba con varias velocidades y tamaños\n",
    "# Escribe varias expresiones de prueba o combinaciones de expresiones de prueba para determinar qué mensaje se debe enviar a Tierra."
   ]
  },
  {
   "cell_type": "code",
   "execution_count": 24,
   "metadata": {},
   "outputs": [
    {
     "name": "stdout",
     "output_type": "stream",
     "text": [
      "Se percibe una luz brillante en el cielo\n"
     ]
    }
   ],
   "source": [
    "#Peligro de tamaño en asteroides: 25m a 100m.\n",
    "#Peligro en velocidad de asteroides: mayor a 25km/s \n",
    "TamañoAsteroide = 15 #metros\n",
    "VelAsteroide = 250 #km/s\n",
    "if TamañoAsteroide > 25 and TamañoAsteroide < 100:\n",
    "    print(\"Asteroide de peligro inmediato acercándose a la atmósfera.\")\n",
    "elif VelAsteroide >= 20:\n",
    "    print(\"Se percibe una luz brillante en el cielo\")\n",
    "else:\n",
    "    print(\"Nada en el perímetro\")\n",
    "\n"
   ]
  }
 ],
 "metadata": {
  "interpreter": {
   "hash": "6c1d21edf422266e0da19f77992c618797e2962505659014e559b05c731a28b0"
  },
  "kernelspec": {
   "display_name": "Python 3.10.2 64-bit (system)",
   "language": "python",
   "name": "python3"
  },
  "language_info": {
   "codemirror_mode": {
    "name": "ipython",
    "version": 3
   },
   "file_extension": ".py",
   "mimetype": "text/x-python",
   "name": "python",
   "nbconvert_exporter": "python",
   "pygments_lexer": "ipython3",
   "version": "3.10.2"
  },
  "orig_nbformat": 4
 },
 "nbformat": 4,
 "nbformat_minor": 2
}
