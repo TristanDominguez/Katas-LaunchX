{
 "cells": [
  {
   "cell_type": "markdown",
   "metadata": {},
   "source": [
    "Kata 4 ejercicio de cadenas:\n",
    "\n",
    "Texto necesario:\n",
    "text = \"\"\"Interesting facts about the Moon. The Moon is Earth's only satellite. \n",
    "There are several interesting facts about the Moon and how it affects life here on Earth. \n",
    "On average, the Moon moves 4cm away from the Earth every year. \n",
    "This yearly drift is not significant enough to cause immediate effects on Earth. The highest daylight temperature of the Moon is 127 C.\"\"\"\n"
   ]
  },
  {
   "cell_type": "markdown",
   "metadata": {},
   "source": [
    "Ejercicio 1 kata 4:\n",
    "Transformar cadenas.\n",
    "1.- Primero, divide el texto en cada oración para trabajar con su contenido:\n",
    "2.- Define algunas palabras clave para búsqueda que te ayudarán a determinar si una oración contiene un hecho. 'average', 'temperature', 'distance'\n",
    "3.- Cre un bucle para imprimir solo datos sobre la Luna que estén relacionados con las palabras clave definidas anteriormente.\n"
   ]
  },
  {
   "cell_type": "code",
   "execution_count": null,
   "metadata": {},
   "outputs": [],
   "source": [
    "text = \"\"\"Interesting facts about the Moon. The Moon is Earth's only satellite. There are several interesting facts about the Moon and how it affects life here on Earth. \n",
    "On average, the Moon moves 4cm away from the Earth every year. This yearly drift is not significant enough to cause immediate effects on Earth. The highest daylight temperature of the Moon is 127 C.\"\"\"\n",
    "\n",
    "TextoDividido = text.split('. ') #Cada oración dividida por un punto será separada y guardada en la variable nueva.\n",
    "print(TextoDividido)"
   ]
  },
  {
   "cell_type": "code",
   "execution_count": null,
   "metadata": {},
   "outputs": [],
   "source": [
    "PalabrasClave = ['average', 'temperature', 'distance'] #se guardan las palabras en una nueva variable\n",
    "#'average' in text\n",
    "#'temperature' in text\n",
    "#'distance' in text\n",
    "for x in TextoDividido:\n",
    "    for y in PalabrasClave:\n",
    "        if y in x:\n",
    "            print(\"La palabra\", y.upper(), \"fué encontrada\")"
   ]
  },
  {
   "cell_type": "code",
   "execution_count": null,
   "metadata": {},
   "outputs": [],
   "source": [
    "for x in TextoDividido:\n",
    "    for y in PalabrasClave:\n",
    "        if y in x:\n",
    "            print(\"La palabra\", y.upper(), \"se encontró en el texto:\", x.replace('C', 'Celsius'), '\\n')\n",
    "            break"
   ]
  },
  {
   "cell_type": "markdown",
   "metadata": {},
   "source": [
    "Ejercicio 2 kata 4:\n",
    "Formateando Cadenas."
   ]
  },
  {
   "cell_type": "code",
   "execution_count": 40,
   "metadata": {},
   "outputs": [],
   "source": [
    "# Datos con los que vas a trabajar\n",
    "name = \"Moon\"\n",
    "gravity = 0.00162 # in kms\n",
    "planet = \"Earth\"\n",
    "# Cambio de datos\n",
    "#name = \"Marte\"\n",
    "#gravity = 0.00143 # in kms\n",
    "#planet = \"Ganímedes\""
   ]
  },
  {
   "cell_type": "code",
   "execution_count": 41,
   "metadata": {},
   "outputs": [],
   "source": [
    "titulo = f'Datos interesantes sobre {name}\\n'"
   ]
  },
  {
   "cell_type": "code",
   "execution_count": 42,
   "metadata": {},
   "outputs": [],
   "source": [
    "#Creación la plantilla\n",
    "datos = f\"\"\"{'-'*80} \n",
    "Nombre del planeta: {planet} \n",
    "Gravedad en {name}: {gravity * 1000} m/s2 \n",
    "\"\"\""
   ]
  },
  {
   "cell_type": "code",
   "execution_count": null,
   "metadata": {},
   "outputs": [],
   "source": [
    "# Unión de ambas cadenas\n",
    "datosInteresantes = f\"\"\"{titulo.title()}{datos}\"\"\"\n",
    "print(datosInteresantes)"
   ]
  },
  {
   "cell_type": "code",
   "execution_count": null,
   "metadata": {},
   "outputs": [],
   "source": [
    "# Cambio de datos\n",
    "name = \"Marte\"\n",
    "gravity = 0.00143 # in kms\n",
    "planet = \"Ganímedes\"\n",
    "titulo = f'Datos interesantes sobre {name}\\n'\n",
    "#Creación la plantilla\n",
    "datos = f\"\"\"{'-'*80} \n",
    "Nombre del planeta: {planet} \n",
    "Gravedad en {name}: {gravity * 1000} m/s2 \n",
    "\"\"\"\n",
    "# Unión de ambas cadenas\n",
    "datosInteresantes = f\"\"\"{titulo.title()}{datos}\"\"\"\n",
    "print(datosInteresantes)\n",
    "# Comprueba la plantilla\n",
    "# print(nombre_plantilla)"
   ]
  }
 ],
 "metadata": {
  "interpreter": {
   "hash": "6c1d21edf422266e0da19f77992c618797e2962505659014e559b05c731a28b0"
  },
  "kernelspec": {
   "display_name": "Python 3.10.2 64-bit (system)",
   "language": "python",
   "name": "python3"
  },
  "language_info": {
   "codemirror_mode": {
    "name": "ipython",
    "version": 3
   },
   "file_extension": ".py",
   "mimetype": "text/x-python",
   "name": "python",
   "nbconvert_exporter": "python",
   "pygments_lexer": "ipython3",
   "version": "3.10.2"
  },
  "orig_nbformat": 4
 },
 "nbformat": 4,
 "nbformat_minor": 2
}
